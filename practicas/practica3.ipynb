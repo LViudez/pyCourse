{
  "cells": [
    {
      "cell_type": "markdown",
      "metadata": {
        "id": "view-in-github",
        "colab_type": "text"
      },
      "source": [
        "<a href=\"https://colab.research.google.com/github/LViudez/pyCourse/blob/main/practicas/practica3.ipynb\" target=\"_parent\"><img src=\"https://colab.research.google.com/assets/colab-badge.svg\" alt=\"Open In Colab\"/></a>"
      ]
    },
    {
      "cell_type": "markdown",
      "id": "8b40af46",
      "metadata": {
        "id": "8b40af46"
      },
      "source": [
        "# Práctica 3\n",
        "* Puede resolver aquí los ejercicios abriendo una celda después de cada uno de los enunciados.  \n",
        "* Por favor, documente la solución de los ejercicios añadiendo suficientes **comentarios** del programador que expliquen el código."
      ]
    },
    {
      "cell_type": "markdown",
      "id": "90a31d0f",
      "metadata": {
        "id": "90a31d0f"
      },
      "source": [
        "## Ejercicio 3.1. Trabajar con un DataSet\n",
        "* Obtener un dataset, preferiblemente con datos financieros, actuariales, económicos o estadísticos.\n",
        "* Crear un modelo de análisis de los datos, utilizando las librerías principales para el análisis de datos, por ejemplo:\n",
        "    - NumPy\n",
        "    - Pandas\n",
        "    - Matplotlib"
      ]
    },
    {
      "cell_type": "markdown",
      "id": "90020a63",
      "metadata": {
        "id": "90020a63"
      },
      "source": [
        "## Ejercicio 3.2. Gráfico histórico de un índice o valor bursátil\n",
        "* Descargar un archivo con formato ***csv*** de la página de Yahoo Finanzas con la cotización de:\n",
        " - un índice (IBEX, NASDAQ, ...) o\n",
        " - valor bursátil,\n",
        "* o bien, de otra fuente disponible.\n",
        "* Crear un procedimiento que lea el fichero y finalmente obtenga un gráfico del histórico del índice o valor.\n",
        "* Tomar el periodo histórico más largo posible.\n",
        "* Alternativamente o adicionalmente, si disponemos de una API o fuente de información diferente de un *csv* descargado de forma manual, también se podría realizar de una forma más automatizada."
      ]
    },
    {
      "cell_type": "code",
      "source": [
        "!git clone https://github.com/LViudez/UCM_Python.git\n",
        "%cd UCM_Python/practicas\n",
        "\n",
        "import pandas as pd\n",
        "\n",
        "path = 'IAG.L.csv'\n",
        "pd.read_csv(path)\n"
      ],
      "metadata": {
        "id": "nxAydHK44B8T",
        "outputId": "b28f9a43-93a2-4211-ac55-c2b6878a1549",
        "colab": {
          "base_uri": "https://localhost:8080/",
          "height": 563
        }
      },
      "id": "nxAydHK44B8T",
      "execution_count": 4,
      "outputs": [
        {
          "output_type": "stream",
          "name": "stdout",
          "text": [
            "Cloning into 'UCM_Python'...\n",
            "remote: Enumerating objects: 279, done.\u001b[K\n",
            "remote: Counting objects:   0% (1/135)\u001b[K\rremote: Counting objects:   1% (2/135)\u001b[K\rremote: Counting objects:   2% (3/135)\u001b[K\rremote: Counting objects:   3% (5/135)\u001b[K\rremote: Counting objects:   4% (6/135)\u001b[K\rremote: Counting objects:   5% (7/135)\u001b[K\rremote: Counting objects:   6% (9/135)\u001b[K\rremote: Counting objects:   7% (10/135)\u001b[K\rremote: Counting objects:   8% (11/135)\u001b[K\rremote: Counting objects:   9% (13/135)\u001b[K\rremote: Counting objects:  10% (14/135)\u001b[K\rremote: Counting objects:  11% (15/135)\u001b[K\rremote: Counting objects:  12% (17/135)\u001b[K\rremote: Counting objects:  13% (18/135)\u001b[K\rremote: Counting objects:  14% (19/135)\u001b[K\rremote: Counting objects:  15% (21/135)\u001b[K\rremote: Counting objects:  16% (22/135)\u001b[K\rremote: Counting objects:  17% (23/135)\u001b[K\rremote: Counting objects:  18% (25/135)\u001b[K\rremote: Counting objects:  19% (26/135)\u001b[K\rremote: Counting objects:  20% (27/135)\u001b[K\rremote: Counting objects:  21% (29/135)\u001b[K\rremote: Counting objects:  22% (30/135)\u001b[K\rremote: Counting objects:  23% (32/135)\u001b[K\rremote: Counting objects:  24% (33/135)\u001b[K\rremote: Counting objects:  25% (34/135)\u001b[K\rremote: Counting objects:  26% (36/135)\u001b[K\rremote: Counting objects:  27% (37/135)\u001b[K\rremote: Counting objects:  28% (38/135)\u001b[K\rremote: Counting objects:  29% (40/135)\u001b[K\rremote: Counting objects:  30% (41/135)\u001b[K\rremote: Counting objects:  31% (42/135)\u001b[K\rremote: Counting objects:  32% (44/135)\u001b[K\rremote: Counting objects:  33% (45/135)\u001b[K\rremote: Counting objects:  34% (46/135)\u001b[K\rremote: Counting objects:  35% (48/135)\u001b[K\rremote: Counting objects:  36% (49/135)\u001b[K\rremote: Counting objects:  37% (50/135)\u001b[K\rremote: Counting objects:  38% (52/135)\u001b[K\rremote: Counting objects:  39% (53/135)\u001b[K\rremote: Counting objects:  40% (54/135)\u001b[K\rremote: Counting objects:  41% (56/135)\u001b[K\rremote: Counting objects:  42% (57/135)\u001b[K\rremote: Counting objects:  43% (59/135)\u001b[K\rremote: Counting objects:  44% (60/135)\u001b[K\rremote: Counting objects:  45% (61/135)\u001b[K\rremote: Counting objects:  46% (63/135)\u001b[K\rremote: Counting objects:  47% (64/135)\u001b[K\rremote: Counting objects:  48% (65/135)\u001b[K\rremote: Counting objects:  49% (67/135)\u001b[K\rremote: Counting objects:  50% (68/135)\u001b[K\rremote: Counting objects:  51% (69/135)\u001b[K\rremote: Counting objects:  52% (71/135)\u001b[K\rremote: Counting objects:  53% (72/135)\u001b[K\rremote: Counting objects:  54% (73/135)\u001b[K\rremote: Counting objects:  55% (75/135)\u001b[K\rremote: Counting objects:  56% (76/135)\u001b[K\rremote: Counting objects:  57% (77/135)\u001b[K\rremote: Counting objects:  58% (79/135)\u001b[K\rremote: Counting objects:  59% (80/135)\u001b[K\rremote: Counting objects:  60% (81/135)\u001b[K\rremote: Counting objects:  61% (83/135)\u001b[K\rremote: Counting objects:  62% (84/135)\u001b[K\rremote: Counting objects:  63% (86/135)\u001b[K\rremote: Counting objects:  64% (87/135)\u001b[K\rremote: Counting objects:  65% (88/135)\u001b[K\rremote: Counting objects:  66% (90/135)\u001b[K\rremote: Counting objects:  67% (91/135)\u001b[K\rremote: Counting objects:  68% (92/135)\u001b[K\rremote: Counting objects:  69% (94/135)\u001b[K\rremote: Counting objects:  70% (95/135)\u001b[K\rremote: Counting objects:  71% (96/135)\u001b[K\rremote: Counting objects:  72% (98/135)\u001b[K\rremote: Counting objects:  73% (99/135)\u001b[K\rremote: Counting objects:  74% (100/135)\u001b[K\rremote: Counting objects:  75% (102/135)\u001b[K\rremote: Counting objects:  76% (103/135)\u001b[K\rremote: Counting objects:  77% (104/135)\u001b[K\rremote: Counting objects:  78% (106/135)\u001b[K\rremote: Counting objects:  79% (107/135)\u001b[K\rremote: Counting objects:  80% (108/135)\u001b[K\rremote: Counting objects:  81% (110/135)\u001b[K\rremote: Counting objects:  82% (111/135)\u001b[K\rremote: Counting objects:  83% (113/135)\u001b[K\rremote: Counting objects:  84% (114/135)\u001b[K\rremote: Counting objects:  85% (115/135)\u001b[K\rremote: Counting objects:  86% (117/135)\u001b[K\rremote: Counting objects:  87% (118/135)\u001b[K\rremote: Counting objects:  88% (119/135)\u001b[K\rremote: Counting objects:  89% (121/135)\u001b[K\rremote: Counting objects:  90% (122/135)\u001b[K\rremote: Counting objects:  91% (123/135)\u001b[K\rremote: Counting objects:  92% (125/135)\u001b[K\rremote: Counting objects:  93% (126/135)\u001b[K\rremote: Counting objects:  94% (127/135)\u001b[K\rremote: Counting objects:  95% (129/135)\u001b[K\rremote: Counting objects:  96% (130/135)\u001b[K\rremote: Counting objects:  97% (131/135)\u001b[K\rremote: Counting objects:  98% (133/135)\u001b[K\rremote: Counting objects:  99% (134/135)\u001b[K\rremote: Counting objects: 100% (135/135)\u001b[K\rremote: Counting objects: 100% (135/135), done.\u001b[K\n",
            "remote: Compressing objects: 100% (91/91), done.\u001b[K\n",
            "remote: Total 279 (delta 68), reused 43 (delta 43), pack-reused 144\u001b[K\n",
            "Receiving objects: 100% (279/279), 163.98 KiB | 5.65 MiB/s, done.\n",
            "Resolving deltas: 100% (69/69), done.\n",
            "/content/UCM_Python/practicas/UCM_Python/practicas/UCM_Python/practicas\n"
          ]
        },
        {
          "output_type": "execute_result",
          "data": {
            "text/plain": [
              "            Date        Open        High         Low       Close   Adj Close  \\\n",
              "0     2003-01-02  136.000000  143.000000  136.000000  143.000000  101.965462   \n",
              "1     2003-01-03  146.250000  148.750000  142.000000  145.000000  103.391548   \n",
              "2     2003-01-06  140.250000  144.500000  135.750000  144.250000  102.856766   \n",
              "3     2003-01-07  143.250000  144.000000  135.000000  138.000000   98.400230   \n",
              "4     2003-01-08  139.000000  140.000000  131.000000  136.250000   97.152412   \n",
              "...          ...         ...         ...         ...         ...         ...   \n",
              "4943  2022-06-22  117.639999  119.410004  115.065002  117.480003  117.480003   \n",
              "4944  2022-06-23  119.239998  119.239998  114.139999  114.180000  114.180000   \n",
              "4945  2022-06-24  115.000000  115.599998  112.760002  114.680000  114.680000   \n",
              "4946  2022-06-27  115.519997  117.400002  114.829002  116.080002  116.080002   \n",
              "4947  2022-06-28  117.000000  118.711998  115.403999  116.800003  116.800003   \n",
              "\n",
              "          Volume  \n",
              "0      4645894.0  \n",
              "1      4085260.0  \n",
              "2      8031430.0  \n",
              "3      6085123.0  \n",
              "4      4450954.0  \n",
              "...          ...  \n",
              "4943  17954677.0  \n",
              "4944  21230512.0  \n",
              "4945  22057947.0  \n",
              "4946  13687475.0  \n",
              "4947  12761148.0  \n",
              "\n",
              "[4948 rows x 7 columns]"
            ],
            "text/html": [
              "\n",
              "  <div id=\"df-fa9e98b2-8eda-4732-af7c-e96b3d89fcdc\">\n",
              "    <div class=\"colab-df-container\">\n",
              "      <div>\n",
              "<style scoped>\n",
              "    .dataframe tbody tr th:only-of-type {\n",
              "        vertical-align: middle;\n",
              "    }\n",
              "\n",
              "    .dataframe tbody tr th {\n",
              "        vertical-align: top;\n",
              "    }\n",
              "\n",
              "    .dataframe thead th {\n",
              "        text-align: right;\n",
              "    }\n",
              "</style>\n",
              "<table border=\"1\" class=\"dataframe\">\n",
              "  <thead>\n",
              "    <tr style=\"text-align: right;\">\n",
              "      <th></th>\n",
              "      <th>Date</th>\n",
              "      <th>Open</th>\n",
              "      <th>High</th>\n",
              "      <th>Low</th>\n",
              "      <th>Close</th>\n",
              "      <th>Adj Close</th>\n",
              "      <th>Volume</th>\n",
              "    </tr>\n",
              "  </thead>\n",
              "  <tbody>\n",
              "    <tr>\n",
              "      <th>0</th>\n",
              "      <td>2003-01-02</td>\n",
              "      <td>136.000000</td>\n",
              "      <td>143.000000</td>\n",
              "      <td>136.000000</td>\n",
              "      <td>143.000000</td>\n",
              "      <td>101.965462</td>\n",
              "      <td>4645894.0</td>\n",
              "    </tr>\n",
              "    <tr>\n",
              "      <th>1</th>\n",
              "      <td>2003-01-03</td>\n",
              "      <td>146.250000</td>\n",
              "      <td>148.750000</td>\n",
              "      <td>142.000000</td>\n",
              "      <td>145.000000</td>\n",
              "      <td>103.391548</td>\n",
              "      <td>4085260.0</td>\n",
              "    </tr>\n",
              "    <tr>\n",
              "      <th>2</th>\n",
              "      <td>2003-01-06</td>\n",
              "      <td>140.250000</td>\n",
              "      <td>144.500000</td>\n",
              "      <td>135.750000</td>\n",
              "      <td>144.250000</td>\n",
              "      <td>102.856766</td>\n",
              "      <td>8031430.0</td>\n",
              "    </tr>\n",
              "    <tr>\n",
              "      <th>3</th>\n",
              "      <td>2003-01-07</td>\n",
              "      <td>143.250000</td>\n",
              "      <td>144.000000</td>\n",
              "      <td>135.000000</td>\n",
              "      <td>138.000000</td>\n",
              "      <td>98.400230</td>\n",
              "      <td>6085123.0</td>\n",
              "    </tr>\n",
              "    <tr>\n",
              "      <th>4</th>\n",
              "      <td>2003-01-08</td>\n",
              "      <td>139.000000</td>\n",
              "      <td>140.000000</td>\n",
              "      <td>131.000000</td>\n",
              "      <td>136.250000</td>\n",
              "      <td>97.152412</td>\n",
              "      <td>4450954.0</td>\n",
              "    </tr>\n",
              "    <tr>\n",
              "      <th>...</th>\n",
              "      <td>...</td>\n",
              "      <td>...</td>\n",
              "      <td>...</td>\n",
              "      <td>...</td>\n",
              "      <td>...</td>\n",
              "      <td>...</td>\n",
              "      <td>...</td>\n",
              "    </tr>\n",
              "    <tr>\n",
              "      <th>4943</th>\n",
              "      <td>2022-06-22</td>\n",
              "      <td>117.639999</td>\n",
              "      <td>119.410004</td>\n",
              "      <td>115.065002</td>\n",
              "      <td>117.480003</td>\n",
              "      <td>117.480003</td>\n",
              "      <td>17954677.0</td>\n",
              "    </tr>\n",
              "    <tr>\n",
              "      <th>4944</th>\n",
              "      <td>2022-06-23</td>\n",
              "      <td>119.239998</td>\n",
              "      <td>119.239998</td>\n",
              "      <td>114.139999</td>\n",
              "      <td>114.180000</td>\n",
              "      <td>114.180000</td>\n",
              "      <td>21230512.0</td>\n",
              "    </tr>\n",
              "    <tr>\n",
              "      <th>4945</th>\n",
              "      <td>2022-06-24</td>\n",
              "      <td>115.000000</td>\n",
              "      <td>115.599998</td>\n",
              "      <td>112.760002</td>\n",
              "      <td>114.680000</td>\n",
              "      <td>114.680000</td>\n",
              "      <td>22057947.0</td>\n",
              "    </tr>\n",
              "    <tr>\n",
              "      <th>4946</th>\n",
              "      <td>2022-06-27</td>\n",
              "      <td>115.519997</td>\n",
              "      <td>117.400002</td>\n",
              "      <td>114.829002</td>\n",
              "      <td>116.080002</td>\n",
              "      <td>116.080002</td>\n",
              "      <td>13687475.0</td>\n",
              "    </tr>\n",
              "    <tr>\n",
              "      <th>4947</th>\n",
              "      <td>2022-06-28</td>\n",
              "      <td>117.000000</td>\n",
              "      <td>118.711998</td>\n",
              "      <td>115.403999</td>\n",
              "      <td>116.800003</td>\n",
              "      <td>116.800003</td>\n",
              "      <td>12761148.0</td>\n",
              "    </tr>\n",
              "  </tbody>\n",
              "</table>\n",
              "<p>4948 rows × 7 columns</p>\n",
              "</div>\n",
              "      <button class=\"colab-df-convert\" onclick=\"convertToInteractive('df-fa9e98b2-8eda-4732-af7c-e96b3d89fcdc')\"\n",
              "              title=\"Convert this dataframe to an interactive table.\"\n",
              "              style=\"display:none;\">\n",
              "        \n",
              "  <svg xmlns=\"http://www.w3.org/2000/svg\" height=\"24px\"viewBox=\"0 0 24 24\"\n",
              "       width=\"24px\">\n",
              "    <path d=\"M0 0h24v24H0V0z\" fill=\"none\"/>\n",
              "    <path d=\"M18.56 5.44l.94 2.06.94-2.06 2.06-.94-2.06-.94-.94-2.06-.94 2.06-2.06.94zm-11 1L8.5 8.5l.94-2.06 2.06-.94-2.06-.94L8.5 2.5l-.94 2.06-2.06.94zm10 10l.94 2.06.94-2.06 2.06-.94-2.06-.94-.94-2.06-.94 2.06-2.06.94z\"/><path d=\"M17.41 7.96l-1.37-1.37c-.4-.4-.92-.59-1.43-.59-.52 0-1.04.2-1.43.59L10.3 9.45l-7.72 7.72c-.78.78-.78 2.05 0 2.83L4 21.41c.39.39.9.59 1.41.59.51 0 1.02-.2 1.41-.59l7.78-7.78 2.81-2.81c.8-.78.8-2.07 0-2.86zM5.41 20L4 18.59l7.72-7.72 1.47 1.35L5.41 20z\"/>\n",
              "  </svg>\n",
              "      </button>\n",
              "      \n",
              "  <style>\n",
              "    .colab-df-container {\n",
              "      display:flex;\n",
              "      flex-wrap:wrap;\n",
              "      gap: 12px;\n",
              "    }\n",
              "\n",
              "    .colab-df-convert {\n",
              "      background-color: #E8F0FE;\n",
              "      border: none;\n",
              "      border-radius: 50%;\n",
              "      cursor: pointer;\n",
              "      display: none;\n",
              "      fill: #1967D2;\n",
              "      height: 32px;\n",
              "      padding: 0 0 0 0;\n",
              "      width: 32px;\n",
              "    }\n",
              "\n",
              "    .colab-df-convert:hover {\n",
              "      background-color: #E2EBFA;\n",
              "      box-shadow: 0px 1px 2px rgba(60, 64, 67, 0.3), 0px 1px 3px 1px rgba(60, 64, 67, 0.15);\n",
              "      fill: #174EA6;\n",
              "    }\n",
              "\n",
              "    [theme=dark] .colab-df-convert {\n",
              "      background-color: #3B4455;\n",
              "      fill: #D2E3FC;\n",
              "    }\n",
              "\n",
              "    [theme=dark] .colab-df-convert:hover {\n",
              "      background-color: #434B5C;\n",
              "      box-shadow: 0px 1px 3px 1px rgba(0, 0, 0, 0.15);\n",
              "      filter: drop-shadow(0px 1px 2px rgba(0, 0, 0, 0.3));\n",
              "      fill: #FFFFFF;\n",
              "    }\n",
              "  </style>\n",
              "\n",
              "      <script>\n",
              "        const buttonEl =\n",
              "          document.querySelector('#df-fa9e98b2-8eda-4732-af7c-e96b3d89fcdc button.colab-df-convert');\n",
              "        buttonEl.style.display =\n",
              "          google.colab.kernel.accessAllowed ? 'block' : 'none';\n",
              "\n",
              "        async function convertToInteractive(key) {\n",
              "          const element = document.querySelector('#df-fa9e98b2-8eda-4732-af7c-e96b3d89fcdc');\n",
              "          const dataTable =\n",
              "            await google.colab.kernel.invokeFunction('convertToInteractive',\n",
              "                                                     [key], {});\n",
              "          if (!dataTable) return;\n",
              "\n",
              "          const docLinkHtml = 'Like what you see? Visit the ' +\n",
              "            '<a target=\"_blank\" href=https://colab.research.google.com/notebooks/data_table.ipynb>data table notebook</a>'\n",
              "            + ' to learn more about interactive tables.';\n",
              "          element.innerHTML = '';\n",
              "          dataTable['output_type'] = 'display_data';\n",
              "          await google.colab.output.renderOutput(dataTable, element);\n",
              "          const docLink = document.createElement('div');\n",
              "          docLink.innerHTML = docLinkHtml;\n",
              "          element.appendChild(docLink);\n",
              "        }\n",
              "      </script>\n",
              "    </div>\n",
              "  </div>\n",
              "  "
            ]
          },
          "metadata": {},
          "execution_count": 4
        }
      ]
    },
    {
      "cell_type": "markdown",
      "id": "42322381",
      "metadata": {
        "id": "42322381"
      },
      "source": [
        "## Ejercicio 3.3. Trabajar con la Librería openpyxl\n",
        "* Crear una aplicación programada en Python que permita interactuar con la **hoja de cálculo** tanto para lectura, como para escritura.\n",
        "* Utilice la Librería openpyxl, u otra que considere adecuada para interactuar con hoja de cálculo"
      ]
    },
    {
      "cell_type": "markdown",
      "id": "9adbef23",
      "metadata": {
        "id": "9adbef23"
      },
      "source": [
        "## Ejercicio 3.4. Librería actuarial\n",
        "* Utilizando la librería actuarial **pyliferisk**, o cualquier otra que considere adecuada en este campo, cree un caso donde se muestren diferentes cálculos y procedimientos que se puedan realizar con ella.\n",
        "* Alternativamente, puede realizar su propia librería actuarial y probarla creando ejemplos prácticos. En este caso, no olvide documentar la funcionalidad de los métodos que programe, utilizando POO."
      ]
    },
    {
      "cell_type": "markdown",
      "id": "37241230",
      "metadata": {
        "id": "37241230"
      },
      "source": [
        "## Ejercicio 3.5. Trabajar con una API\n",
        "* Localizar una API con datos que puedan resultar de interés.\n",
        "* Crear una aplicación programada en Python que utilice los datos de la API, preferiblemente con datos en tiempo real.\n",
        "* Mostrar la información que nuestra aplicación pueda procesar, según ciertos filtros, que faciliten el uso de la API."
      ]
    },
    {
      "cell_type": "markdown",
      "id": "67115e56",
      "metadata": {
        "id": "67115e56"
      },
      "source": [
        "## Ejercicio 3.6. Página web con Flask\n",
        "* Crear una aplicación de página web programada en Python con el framework Flask.\n",
        "* Puede desplegarla en alguna plataforma gratuita como, por ejemplo, [Pythonanywhere](https://www.pythonanywhere.com) o [Heroku](https://www.heroku.com)."
      ]
    },
    {
      "cell_type": "markdown",
      "id": "7e80d728",
      "metadata": {
        "id": "7e80d728"
      },
      "source": [
        "## Ejercicio 3.7. Bot de Telegram que proporciona cotizaciones en tiempo real\n",
        "Crear un Bot de Telegram programado en Python que realizando **Web Scraping** nos pueda dar precios en tiempo real de valores cotizados en bolsa, o en mercados financieros internacionales.  \n",
        "Adjuntar capturas de pantalla mostrando el funcionamiento del bot en Telegram."
      ]
    },
    {
      "cell_type": "markdown",
      "metadata": {
        "id": "ovrHbDBWZHwg"
      },
      "source": [
        "## Ejercicio 3.8. Estrategias de Trading\n",
        "* Elegir una compañía cotizada y realizar con ella diferentes estrategias de trading, con gráficos e indicadores bursátiles.\n",
        "* Puede utilizar la librería TA-Lib u otro sistema para efectuar el análisis."
      ],
      "id": "ovrHbDBWZHwg"
    },
    {
      "cell_type": "markdown",
      "source": [
        "## Ejercicio 3.9. Finanzas\n",
        "Estudie casos en el campo de las finanzas:\n",
        "* VAN y TIR\n",
        "* Cuadro de amortización de préstamos\n",
        "* Operativa con activos de Renta Fija: bonos\n",
        "* *Duration*\n",
        "* Estructura Temporal de los Tipos de Interés (ETTI)\n",
        "* Forwards sobre tipos de interés\n",
        "* Arbitraje\n",
        "* Random Walk en una y dos dimensiones\n",
        "* ... / ...\n"
      ],
      "metadata": {
        "id": "wpAipLNAtJvT"
      },
      "id": "wpAipLNAtJvT"
    },
    {
      "cell_type": "markdown",
      "source": [
        "## Ejercicio 3.10. Valoración de opciones financieras\n",
        "* Método de valoración de opciones europeas mediante arbol binomial\n",
        "* Método de Black-Scholes\n",
        "* Convergencia de ambos métodos\n",
        "* Gráfico de convergencia\n",
        "* Arbitraje en caso de no cumplirse la paridad Put-Call"
      ],
      "metadata": {
        "id": "aGpxuM7_unko"
      },
      "id": "aGpxuM7_unko"
    }
  ],
  "metadata": {
    "kernelspec": {
      "display_name": "Python 3 (ipykernel)",
      "language": "python",
      "name": "python3"
    },
    "language_info": {
      "codemirror_mode": {
        "name": "ipython",
        "version": 3
      },
      "file_extension": ".py",
      "mimetype": "text/x-python",
      "name": "python",
      "nbconvert_exporter": "python",
      "pygments_lexer": "ipython3",
      "version": "3.8.11"
    },
    "colab": {
      "name": "practica3.ipynb",
      "provenance": [],
      "include_colab_link": true
    }
  },
  "nbformat": 4,
  "nbformat_minor": 5
}